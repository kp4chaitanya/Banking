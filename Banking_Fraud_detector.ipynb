{
 "cells": [
  {
   "cell_type": "code",
   "execution_count": 1,
   "id": "880c2bfe-2f53-4782-b839-42f85dc1661c",
   "metadata": {},
   "outputs": [],
   "source": [
    "import pandas as pd\n",
    "import numpy as np"
   ]
  },
  {
   "cell_type": "code",
   "execution_count": 2,
   "id": "8acaafe2-ecdf-47c6-9b91-37985178d471",
   "metadata": {},
   "outputs": [],
   "source": [
    "train_df=pd.read_csv(\"train_data.csv\")"
   ]
  },
  {
   "cell_type": "code",
   "execution_count": 4,
   "id": "31a1a89d-5212-4843-8d53-84e8a314e09f",
   "metadata": {},
   "outputs": [
    {
     "data": {
      "text/html": [
       "<div>\n",
       "<style scoped>\n",
       "    .dataframe tbody tr th:only-of-type {\n",
       "        vertical-align: middle;\n",
       "    }\n",
       "\n",
       "    .dataframe tbody tr th {\n",
       "        vertical-align: top;\n",
       "    }\n",
       "\n",
       "    .dataframe thead th {\n",
       "        text-align: right;\n",
       "    }\n",
       "</style>\n",
       "<table border=\"1\" class=\"dataframe\">\n",
       "  <thead>\n",
       "    <tr style=\"text-align: right;\">\n",
       "      <th></th>\n",
       "      <th>transaction_number</th>\n",
       "      <th>user_id</th>\n",
       "      <th>payment_method</th>\n",
       "      <th>partner_id</th>\n",
       "      <th>partner_category</th>\n",
       "      <th>country</th>\n",
       "      <th>device_type</th>\n",
       "      <th>money_transacted</th>\n",
       "      <th>transaction_initiation</th>\n",
       "      <th>partner_pricing_category</th>\n",
       "      <th>is_fraud</th>\n",
       "    </tr>\n",
       "  </thead>\n",
       "  <tbody>\n",
       "    <tr>\n",
       "      <th>0</th>\n",
       "      <td>144703125000</td>\n",
       "      <td>17539344</td>\n",
       "      <td>sbi_atm_cum_debit_card</td>\n",
       "      <td>47334</td>\n",
       "      <td>cat_1</td>\n",
       "      <td>IND_INR</td>\n",
       "      <td>android_devices</td>\n",
       "      <td>-5.0</td>\n",
       "      <td>2016-11-15 19:16:12+00:00</td>\n",
       "      <td>2</td>\n",
       "      <td>0</td>\n",
       "    </tr>\n",
       "    <tr>\n",
       "      <th>1</th>\n",
       "      <td>77406814453032</td>\n",
       "      <td>24710841</td>\n",
       "      <td>e_wallet_payments</td>\n",
       "      <td>78890</td>\n",
       "      <td>cat_2</td>\n",
       "      <td>IND_INR</td>\n",
       "      <td>other_pcs</td>\n",
       "      <td>100.0</td>\n",
       "      <td>2017-01-11 09:25:33+00:00</td>\n",
       "      <td>2</td>\n",
       "      <td>0</td>\n",
       "    </tr>\n",
       "    <tr>\n",
       "      <th>2</th>\n",
       "      <td>308929485482801</td>\n",
       "      <td>24265476</td>\n",
       "      <td>e_wallet_payments</td>\n",
       "      <td>78890</td>\n",
       "      <td>cat_2</td>\n",
       "      <td>IND_INR</td>\n",
       "      <td>other_pcs</td>\n",
       "      <td>50.0</td>\n",
       "      <td>2016-12-07 07:58:09+00:00</td>\n",
       "      <td>2</td>\n",
       "      <td>0</td>\n",
       "    </tr>\n",
       "    <tr>\n",
       "      <th>3</th>\n",
       "      <td>665270027747073</td>\n",
       "      <td>10240000</td>\n",
       "      <td>other_debit_cards</td>\n",
       "      <td>102557</td>\n",
       "      <td>cat_3</td>\n",
       "      <td>IND_INR</td>\n",
       "      <td>other_pcs</td>\n",
       "      <td>1000.0</td>\n",
       "      <td>2017-01-11 16:15:44+00:00</td>\n",
       "      <td>2</td>\n",
       "      <td>0</td>\n",
       "    </tr>\n",
       "    <tr>\n",
       "      <th>4</th>\n",
       "      <td>38276160171101</td>\n",
       "      <td>5880625</td>\n",
       "      <td>other_debit_cards</td>\n",
       "      <td>118335</td>\n",
       "      <td>cat_1</td>\n",
       "      <td>IND_INR</td>\n",
       "      <td>other_pcs</td>\n",
       "      <td>200.0</td>\n",
       "      <td>2016-11-16 17:04:42+00:00</td>\n",
       "      <td>2</td>\n",
       "      <td>0</td>\n",
       "    </tr>\n",
       "  </tbody>\n",
       "</table>\n",
       "</div>"
      ],
      "text/plain": [
       "   transaction_number   user_id          payment_method  partner_id  \\\n",
       "0        144703125000  17539344  sbi_atm_cum_debit_card       47334   \n",
       "1      77406814453032  24710841       e_wallet_payments       78890   \n",
       "2     308929485482801  24265476       e_wallet_payments       78890   \n",
       "3     665270027747073  10240000       other_debit_cards      102557   \n",
       "4      38276160171101   5880625       other_debit_cards      118335   \n",
       "\n",
       "  partner_category  country      device_type  money_transacted  \\\n",
       "0            cat_1  IND_INR  android_devices              -5.0   \n",
       "1            cat_2  IND_INR        other_pcs             100.0   \n",
       "2            cat_2  IND_INR        other_pcs              50.0   \n",
       "3            cat_3  IND_INR        other_pcs            1000.0   \n",
       "4            cat_1  IND_INR        other_pcs             200.0   \n",
       "\n",
       "      transaction_initiation  partner_pricing_category  is_fraud  \n",
       "0  2016-11-15 19:16:12+00:00                         2         0  \n",
       "1  2017-01-11 09:25:33+00:00                         2         0  \n",
       "2  2016-12-07 07:58:09+00:00                         2         0  \n",
       "3  2017-01-11 16:15:44+00:00                         2         0  \n",
       "4  2016-11-16 17:04:42+00:00                         2         0  "
      ]
     },
     "execution_count": 4,
     "metadata": {},
     "output_type": "execute_result"
    }
   ],
   "source": [
    "train_df.head()"
   ]
  },
  {
   "cell_type": "code",
   "execution_count": 5,
   "id": "b9daf257-d2ab-4970-bd34-61a3ef6d50d6",
   "metadata": {},
   "outputs": [
    {
     "data": {
      "text/plain": [
       "(76529, 11)"
      ]
     },
     "execution_count": 5,
     "metadata": {},
     "output_type": "execute_result"
    }
   ],
   "source": [
    "train_df.shape"
   ]
  },
  {
   "cell_type": "code",
   "execution_count": 6,
   "id": "c9037f18-ad20-4b76-b62c-610c3c9866e0",
   "metadata": {},
   "outputs": [
    {
     "data": {
      "text/plain": [
       "transaction_number          0\n",
       "user_id                     0\n",
       "payment_method              0\n",
       "partner_id                  0\n",
       "partner_category            0\n",
       "country                     0\n",
       "device_type                 0\n",
       "money_transacted            0\n",
       "transaction_initiation      0\n",
       "partner_pricing_category    0\n",
       "is_fraud                    0\n",
       "dtype: int64"
      ]
     },
     "execution_count": 6,
     "metadata": {},
     "output_type": "execute_result"
    }
   ],
   "source": [
    "train_df.isnull().sum()"
   ]
  },
  {
   "cell_type": "code",
   "execution_count": 9,
   "id": "3851bebd-d8a6-4acd-a6a7-71c061aec4ab",
   "metadata": {},
   "outputs": [
    {
     "data": {
      "text/plain": [
       "Index(['transaction_number', 'user_id', 'payment_method', 'partner_id',\n",
       "       'partner_category', 'country', 'device_type', 'money_transacted',\n",
       "       'transaction_initiation', 'partner_pricing_category', 'is_fraud'],\n",
       "      dtype='object')"
      ]
     },
     "execution_count": 9,
     "metadata": {},
     "output_type": "execute_result"
    }
   ],
   "source": [
    "train_df.columns"
   ]
  },
  {
   "cell_type": "code",
   "execution_count": 10,
   "id": "d779e630-5210-4ec2-ad1d-4e543b2d30a4",
   "metadata": {},
   "outputs": [
    {
     "data": {
      "text/plain": [
       "76529"
      ]
     },
     "execution_count": 10,
     "metadata": {},
     "output_type": "execute_result"
    }
   ],
   "source": [
    "#'transaction_number' column has all unique values\n",
    "train_df['transaction_number'].nunique()"
   ]
  },
  {
   "cell_type": "code",
   "execution_count": 11,
   "id": "bea6822c-6855-4cfc-8664-f52b016ad3f5",
   "metadata": {},
   "outputs": [
    {
     "data": {
      "text/plain": [
       "3594"
      ]
     },
     "execution_count": 11,
     "metadata": {},
     "output_type": "execute_result"
    }
   ],
   "source": [
    "#'user_id'\n",
    "train_df['user_id'].nunique()"
   ]
  },
  {
   "cell_type": "code",
   "execution_count": 12,
   "id": "47a649b0-4689-4896-bfb2-4786d8929620",
   "metadata": {},
   "outputs": [
    {
     "data": {
      "text/plain": [
       "6"
      ]
     },
     "execution_count": 12,
     "metadata": {},
     "output_type": "execute_result"
    }
   ],
   "source": [
    "#'payment_method'\n",
    "train_df['payment_method'].nunique()"
   ]
  },
  {
   "cell_type": "code",
   "execution_count": 13,
   "id": "b1841fae-25e2-4321-b002-a7292d3f88be",
   "metadata": {},
   "outputs": [
    {
     "data": {
      "text/plain": [
       "payment_method\n",
       "sbi_atm_cum_debit_card        30538\n",
       "e_wallet_payments             27384\n",
       "visa_master_debit_cards       11643\n",
       "other_debit_cards              4495\n",
       "visa_master_credit_cards       2454\n",
       "unified_payments_interface       15\n",
       "Name: count, dtype: int64"
      ]
     },
     "execution_count": 13,
     "metadata": {},
     "output_type": "execute_result"
    }
   ],
   "source": [
    "train_df['payment_method'].value_counts()"
   ]
  },
  {
   "cell_type": "code",
   "execution_count": 14,
   "id": "548045cc-7897-477c-a8a9-4d2d39bb7723",
   "metadata": {},
   "outputs": [
    {
     "data": {
      "text/plain": [
       "partner_id\n",
       "47334     26105\n",
       "23667     19526\n",
       "78890     12273\n",
       "118335     9546\n",
       "7889       2317\n",
       "31556      1892\n",
       "165669     1216\n",
       "86779      1121\n",
       "149891      767\n",
       "110446      640\n",
       "102557      231\n",
       "15778       189\n",
       "157780      165\n",
       "63112       159\n",
       "189336      146\n",
       "173558       89\n",
       "55223        75\n",
       "213003       25\n",
       "39445        19\n",
       "71001        15\n",
       "126224       10\n",
       "94668         2\n",
       "181447        1\n",
       "Name: count, dtype: int64"
      ]
     },
     "execution_count": 14,
     "metadata": {},
     "output_type": "execute_result"
    }
   ],
   "source": [
    "#'partner_id'\n",
    "train_df['partner_id'].value_counts()"
   ]
  },
  {
   "cell_type": "code",
   "execution_count": 15,
   "id": "550d65f8-a12a-4c91-8d6f-2a2ee610f43b",
   "metadata": {},
   "outputs": [
    {
     "data": {
      "text/plain": [
       "23"
      ]
     },
     "execution_count": 15,
     "metadata": {},
     "output_type": "execute_result"
    }
   ],
   "source": [
    "train_df['partner_id'].nunique()"
   ]
  },
  {
   "cell_type": "code",
   "execution_count": 17,
   "id": "aba146db-393c-40bd-b6bc-4038f2262d45",
   "metadata": {},
   "outputs": [
    {
     "data": {
      "text/plain": [
       "partner_category\n",
       "cat_1    36306\n",
       "cat_2    36019\n",
       "cat_3     1536\n",
       "cat_4     1310\n",
       "cat_5     1026\n",
       "cat_7      165\n",
       "cat_6      146\n",
       "cat_8       19\n",
       "cat_9        2\n",
       "Name: count, dtype: int64"
      ]
     },
     "execution_count": 17,
     "metadata": {},
     "output_type": "execute_result"
    }
   ],
   "source": [
    "#'partner_category'\n",
    "train_df['partner_category'].value_counts()"
   ]
  },
  {
   "cell_type": "code",
   "execution_count": 18,
   "id": "818b03dc-c51b-446e-9cac-1dfd4f64341a",
   "metadata": {},
   "outputs": [
    {
     "data": {
      "text/plain": [
       "country\n",
       "IND_INR    76529\n",
       "Name: count, dtype: int64"
      ]
     },
     "execution_count": 18,
     "metadata": {},
     "output_type": "execute_result"
    }
   ],
   "source": [
    "#'country'\n",
    "train_df['country'].value_counts()"
   ]
  },
  {
   "cell_type": "code",
   "execution_count": 19,
   "id": "6eb51b2f-633c-471d-b2da-80ddf1879175",
   "metadata": {},
   "outputs": [
    {
     "data": {
      "text/plain": [
       "device_type\n",
       "other_pcs          45560\n",
       "android_devices    29662\n",
       "ios_devices          876\n",
       "windows_pcs          431\n",
       "Name: count, dtype: int64"
      ]
     },
     "execution_count": 19,
     "metadata": {},
     "output_type": "execute_result"
    }
   ],
   "source": [
    "#'device_type'\n",
    "train_df['device_type'].value_counts()"
   ]
  },
  {
   "cell_type": "code",
   "execution_count": 21,
   "id": "5cf6a8d4-a3d5-4db8-833c-86447f4d402f",
   "metadata": {},
   "outputs": [
    {
     "data": {
      "text/plain": [
       "money_transacted\n",
       " 20.00     13743\n",
       "-1.00       6838\n",
       " 200.00     6606\n",
       " 40.00      4406\n",
       " 10.00      4161\n",
       "           ...  \n",
       "-4.31          1\n",
       " 67.90         1\n",
       " 372.00        1\n",
       " 700.08        1\n",
       " 494.00        1\n",
       "Name: count, Length: 1454, dtype: int64"
      ]
     },
     "execution_count": 21,
     "metadata": {},
     "output_type": "execute_result"
    }
   ],
   "source": [
    "#'money_transacted'\n",
    "train_df['money_transacted'].value_counts()"
   ]
  },
  {
   "cell_type": "code",
   "execution_count": 22,
   "id": "9f5b2196-9e95-4b32-827e-3416af245968",
   "metadata": {},
   "outputs": [
    {
     "data": {
      "text/plain": [
       "1454"
      ]
     },
     "execution_count": 22,
     "metadata": {},
     "output_type": "execute_result"
    }
   ],
   "source": [
    "train_df['money_transacted'].nunique()"
   ]
  },
  {
   "cell_type": "code",
   "execution_count": null,
   "id": "f807fd11-1910-450a-aa74-bb5e1f6eed90",
   "metadata": {},
   "outputs": [],
   "source": [
    "\"\"\"\n",
    "'country', 'device_type', 'money_transacted',\n",
    "       'transaction_initiation', 'partner_pricing_category', 'is_fraud'\n",
    "       \"\"\"\""
   ]
  },
  {
   "cell_type": "code",
   "execution_count": 23,
   "id": "19420b7b-2320-4216-b802-2afac6b4bdf7",
   "metadata": {},
   "outputs": [
    {
     "data": {
      "text/plain": [
       "transaction_initiation\n",
       "2016-12-24 16:30:13+00:00    12\n",
       "2016-11-15 07:03:26+00:00     7\n",
       "2016-12-24 16:30:12+00:00     6\n",
       "2017-01-04 04:29:41+00:00     4\n",
       "2017-02-01 10:58:34+00:00     4\n",
       "                             ..\n",
       "2016-11-19 06:18:42+00:00     1\n",
       "2016-11-21 08:57:53+00:00     1\n",
       "2016-12-13 08:52:02+00:00     1\n",
       "2016-11-26 11:07:53+00:00     1\n",
       "2017-01-11 19:08:18+00:00     1\n",
       "Name: count, Length: 75811, dtype: int64"
      ]
     },
     "execution_count": 23,
     "metadata": {},
     "output_type": "execute_result"
    }
   ],
   "source": [
    "#'transaction_initiation'\n",
    "train_df['transaction_initiation'].value_counts()"
   ]
  },
  {
   "cell_type": "code",
   "execution_count": 24,
   "id": "511cad92-e5d2-4d07-a2f7-4f125ae3e841",
   "metadata": {},
   "outputs": [
    {
     "data": {
      "text/plain": [
       "partner_pricing_category\n",
       "2    63899\n",
       "4    10833\n",
       "1     1497\n",
       "0      300\n",
       "Name: count, dtype: int64"
      ]
     },
     "execution_count": 24,
     "metadata": {},
     "output_type": "execute_result"
    }
   ],
   "source": [
    "#'partner_pricing_category'\n",
    "train_df['partner_pricing_category'].value_counts()"
   ]
  },
  {
   "cell_type": "code",
   "execution_count": 25,
   "id": "440cd503-9f43-4097-858a-a3efdd833a97",
   "metadata": {},
   "outputs": [
    {
     "data": {
      "text/plain": [
       "is_fraud\n",
       "0    76375\n",
       "1      154\n",
       "Name: count, dtype: int64"
      ]
     },
     "execution_count": 25,
     "metadata": {},
     "output_type": "execute_result"
    }
   ],
   "source": [
    "#'is_fraud'\n",
    "train_df['is_fraud'].value_counts()"
   ]
  },
  {
   "cell_type": "code",
   "execution_count": 30,
   "id": "9001faf9-92ca-496f-a8d6-c6d9f57e4c86",
   "metadata": {},
   "outputs": [
    {
     "data": {
      "text/plain": [
       "0.0020123090593108495"
      ]
     },
     "execution_count": 30,
     "metadata": {},
     "output_type": "execute_result"
    }
   ],
   "source": [
    "(154/(76375+154))\n",
    "#0.20131% fraud transactions"
   ]
  },
  {
   "cell_type": "code",
   "execution_count": 34,
   "id": "b05bdcd7-c8ec-483a-a4ae-38bfe28e5fc9",
   "metadata": {},
   "outputs": [],
   "source": [
    "#remove columns transaction_number and country\n",
    "train_df.drop(columns=['transaction_number', 'country'], axis=1, inplace=True)"
   ]
  },
  {
   "cell_type": "code",
   "execution_count": 35,
   "id": "6a60120c-822e-49df-af79-afb1e0261b69",
   "metadata": {},
   "outputs": [
    {
     "data": {
      "text/plain": [
       "user_id                       int64\n",
       "payment_method               object\n",
       "partner_id                    int64\n",
       "partner_category             object\n",
       "device_type                  object\n",
       "money_transacted            float64\n",
       "transaction_initiation       object\n",
       "partner_pricing_category      int64\n",
       "is_fraud                      int64\n",
       "dtype: object"
      ]
     },
     "execution_count": 35,
     "metadata": {},
     "output_type": "execute_result"
    }
   ],
   "source": [
    "train_df.dtypes"
   ]
  },
  {
   "cell_type": "code",
   "execution_count": null,
   "id": "e8ed9ced-13ab-4c73-abbd-82f3bc6028a7",
   "metadata": {},
   "outputs": [],
   "source": []
  }
 ],
 "metadata": {
  "kernelspec": {
   "display_name": "Python 3 (ipykernel)",
   "language": "python",
   "name": "python3"
  },
  "language_info": {
   "codemirror_mode": {
    "name": "ipython",
    "version": 3
   },
   "file_extension": ".py",
   "mimetype": "text/x-python",
   "name": "python",
   "nbconvert_exporter": "python",
   "pygments_lexer": "ipython3",
   "version": "3.11.7"
  }
 },
 "nbformat": 4,
 "nbformat_minor": 5
}
